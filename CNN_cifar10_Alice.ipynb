{
  "nbformat": 4,
  "nbformat_minor": 0,
  "metadata": {
    "colab": {
      "provenance": [],
      "gpuType": "T4"
    },
    "kernelspec": {
      "name": "python3",
      "display_name": "Python 3"
    },
    "language_info": {
      "name": "python"
    },
    "accelerator": "GPU"
  },
  "cells": [
    {
      "cell_type": "markdown",
      "source": [
        "Alice Itzhak - 206820821"
      ],
      "metadata": {
        "id": "-cBbc7IK69oX"
      }
    },
    {
      "cell_type": "code",
      "execution_count": 30,
      "metadata": {
        "id": "bGRLq9GH75Yr"
      },
      "outputs": [],
      "source": [
        "import tensorflow as tf\n",
        "from tensorflow import keras\n",
        "from tensorflow.keras import layers, regularizers, optimizers, initializers\n",
        "\n",
        "\n",
        "(x_train, y_train), (x_test, y_test) = keras.datasets.cifar10.load_data()\n"
      ]
    },
    {
      "cell_type": "code",
      "source": [
        "x_train = x_train.astype(\"float32\") / 255.0\n",
        "x_test = x_test.astype(\"float32\") / 255.0\n",
        "\n",
        "num_classes = 10\n",
        "y_train = keras.utils.to_categorical(y_train, num_classes)\n",
        "y_test = keras.utils.to_categorical(y_test, num_classes)\n",
        "\n",
        "validation_split = 0.2\n",
        "split_index = int(len(x_train) * (1 - validation_split))\n",
        "x_val, y_val = x_train[split_index:], y_train[split_index:]\n",
        "x_train_new, y_train_new = x_train[:split_index], y_train[:split_index]"
      ],
      "metadata": {
        "id": "noZcUteJ8B8S"
      },
      "execution_count": 31,
      "outputs": []
    },
    {
      "cell_type": "code",
      "source": [
        "he_initializer = initializers.HeNormal()\n",
        "\n",
        "model = keras.Sequential([\n",
        "    layers.Input(shape=(32, 32, 3)),\n",
        "    layers.BatchNormalization(),\n",
        "\n",
        "    layers.Conv2D(\n",
        "        20, (3, 3), padding='same',\n",
        "        activation='leaky_relu',\n",
        "        kernel_initializer=he_initializer,\n",
        "        kernel_regularizer=regularizers.l2(0.002)\n",
        "                  ),\n",
        "    layers.BatchNormalization(),\n",
        "\n",
        "    layers.Conv2D(\n",
        "        68, (3, 3), padding='same',\n",
        "        activation='leaky_relu',\n",
        "        kernel_initializer=he_initializer,\n",
        "        kernel_regularizer=regularizers.l2(0.002)\n",
        "                   ),\n",
        "    layers.BatchNormalization(),\n",
        "    layers.Dropout(0.3),\n",
        "\n",
        "    layers.Conv2D(\n",
        "        68, (3, 3), padding='same',\n",
        "        activation='leaky_relu',\n",
        "        kernel_initializer=he_initializer,\n",
        "        kernel_regularizer=regularizers.l2(0.002)\n",
        "        ),\n",
        "    layers.BatchNormalization(),\n",
        "    layers.Dropout(0.35),\n",
        "\n",
        "    layers.Conv2D(\n",
        "        82, (3, 3), padding='same',\n",
        "        activation='leaky_relu',\n",
        "        kernel_initializer=he_initializer,\n",
        "        kernel_regularizer=regularizers.l2(0.002)\n",
        "        ),\n",
        "    layers.BatchNormalization(),\n",
        "\n",
        "    layers.Conv2D(\n",
        "        82, (3, 3), padding='same',\n",
        "        activation='leaky_relu',\n",
        "        kernel_initializer=he_initializer,\n",
        "        kernel_regularizer=regularizers.l2(0.002)\n",
        "        ),\n",
        "    layers.BatchNormalization(),\n",
        "    layers.Dropout(0.4),\n",
        "\n",
        "    layers.Flatten(),\n",
        "\n",
        "    layers.Dense(\n",
        "        21,\n",
        "        activation='leaky_relu',\n",
        "        kernel_initializer=he_initializer,\n",
        "        kernel_regularizer=regularizers.l2(0.003)\n",
        "        ),\n",
        "    layers.BatchNormalization(),\n",
        "\n",
        "    layers.Dense(\n",
        "        68,\n",
        "        activation='leaky_relu',\n",
        "        kernel_initializer=he_initializer,\n",
        "        kernel_regularizer=regularizers.l2(0.003)\n",
        "        ),\n",
        "    layers.BatchNormalization(),\n",
        "    layers.Dropout(0.4),\n",
        "\n",
        "    layers.Dense(num_classes, activation='softmax')\n",
        "])\n"
      ],
      "metadata": {
        "id": "nrnPIVu09F8t"
      },
      "execution_count": 32,
      "outputs": []
    },
    {
      "cell_type": "code",
      "source": [
        "model.compile(\n",
        "    optimizer=tf.keras.optimizers.Adam(\n",
        "        learning_rate=5e-4,\n",
        "        beta_1=0.9,\n",
        "        beta_2=0.999,\n",
        "        epsilon=1e-7\n",
        "    ),\n",
        "    loss='categorical_crossentropy',\n",
        "    metrics=['accuracy']\n",
        ")\n",
        "callbacks = [\n",
        "    keras.callbacks.ReduceLROnPlateau(\n",
        "        monitor='val_loss', factor=0.5, patience=3, min_lr=1e-6\n",
        "\n",
        "    ),\n",
        "    keras.callbacks.EarlyStopping(\n",
        "        monitor='val_loss', patience=6,\n",
        "        restore_best_weights=True\n",
        "    )\n",
        "]\n",
        "\n",
        "epochs = 30\n",
        "batch_size = 32\n",
        "\n",
        "history = model.fit(\n",
        "    x_train_new, y_train_new,\n",
        "    epochs=epochs,\n",
        "    batch_size=batch_size,\n",
        "    validation_data=(x_val, y_val),\n",
        "    callbacks=callbacks\n",
        ")\n"
      ],
      "metadata": {
        "id": "mS1rLx3x9LLI"
      },
      "execution_count": null,
      "outputs": []
    },
    {
      "cell_type": "code",
      "source": [
        "test_loss, test_acc = model.evaluate(x_test, y_test, verbose=0)\n",
        "print(f\"Test Loss: {test_loss:.4f}, Test Accuracy: {test_acc:.4f}\")"
      ],
      "metadata": {
        "id": "yJ1wiw7W9Rbm"
      },
      "execution_count": null,
      "outputs": []
    },
    {
      "cell_type": "code",
      "source": [
        "import matplotlib.pyplot as plt\n",
        "\n",
        "plt.figure(figsize=(12, 5))\n",
        "plt.plot(history.history['accuracy'], label='Training Accuracy')\n",
        "plt.plot(history.history['val_accuracy'], label='Validation Accuracy')\n",
        "plt.title('Model Accuracy Over Epochs')\n",
        "plt.xlabel('Epoch')\n",
        "plt.ylabel('Accuracy')\n",
        "plt.legend()\n",
        "plt.show()\n",
        "\n",
        "plt.figure(figsize=(12, 5))\n",
        "plt.plot(history.history['loss'], label='Training Loss')\n",
        "plt.plot(history.history['val_loss'], label='Validation Loss')\n",
        "plt.title('Model Loss Over Epochs')\n",
        "plt.xlabel('Epoch')\n",
        "plt.ylabel('Loss')\n",
        "plt.legend()\n",
        "plt.show()\n"
      ],
      "metadata": {
        "id": "UECjBCtGsX4E"
      },
      "execution_count": null,
      "outputs": []
    }
  ]
}